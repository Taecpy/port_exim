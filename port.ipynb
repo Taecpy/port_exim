{
 "cells": [
  {
   "cell_type": "code",
   "execution_count": 91,
   "metadata": {},
   "outputs": [],
   "source": [
    "import pandas as pd\n",
    "import numpy as np\n",
    "import os\n",
    "import glob"
   ]
  },
  {
   "cell_type": "code",
   "execution_count": 92,
   "metadata": {},
   "outputs": [],
   "source": [
    "input = 'INPUT//'\n",
    "input_cust = 'INPUT//CUST'\n",
    "input_group = 'INPUT//GROUP'\n",
    "output = 'OUTPUT//'\n",
    "mapping = 'MAPPING//'\n",
    "# os.mkdir(input)\n",
    "# os.mkdir(output)\n",
    "# os.mkdir(mapping)\n",
    "# os.mkdir(input_cust)\n",
    "# os.mkdir(input_group)"
   ]
  },
  {
   "cell_type": "markdown",
   "metadata": {},
   "source": [
    "### backup"
   ]
  },
  {
   "cell_type": "code",
   "execution_count": 93,
   "metadata": {},
   "outputs": [],
   "source": [
    "# mapping_list = pd.ExcelFile(glob.glob(os.path.join(mapping,'*xlsx'))[-1])\n",
    "# # สร้างพจนานุกรมเพื่อเก็บ DataFrame\n",
    "# dfs = {sheet_name: pd.read_excel(mapping_list, sheet_name=sheet_name) for sheet_name in mapping_list.sheet_names}\n",
    "# # ดู sheets name ทั้งหมด\n",
    "# # dfs.keys()\n",
    "\n",
    "# mapping_list = pd.ExcelFile(glob.glob(os.path.join(mapping,'*xlsx'))[-1])\n",
    "# dfs = {}\n",
    "# for sheet_name in mapping_list.sheet_names:\n",
    "#     data = pd.read_excel(mapping_list, sheet_name=sheet_name)\n",
    "#     dfs[sheet_name] = data\n",
    "\n",
    "\n",
    "# mapping_list = pd.ExcelFile(glob.glob(os.path.join(mapping,'*xlsx'))[-1])\n",
    "# for sheet_name in mapping_list.sheet_names:    \n",
    "#     exec(f\"{sheet_name} = pd.read_excel(mapping_list, sheet_name=sheet_name)\")"
   ]
  },
  {
   "cell_type": "markdown",
   "metadata": {},
   "source": [
    "### function"
   ]
  },
  {
   "cell_type": "code",
   "execution_count": 110,
   "metadata": {},
   "outputs": [],
   "source": [
    "def import_cust():\n",
    "    cust = pd.read_excel(glob.glob(os.path.join(input_cust,'*xlsx'))[-1])\n",
    "    return cust\n",
    "\n",
    "def import_group():\n",
    "    group = pd.read_excel(glob.glob(os.path.join(input_group,'*xlsx'))[-1],dtype={'CUST_GROUP': str,'CUST_CODE': str})\n",
    "    return group\n",
    "\n",
    "def import_mapping():\n",
    "    mapping_list = pd.ExcelFile(glob.glob(os.path.join(mapping, '*xlsx'))[-1])\n",
    "    mapping_dataframes = {}\n",
    "    for sheet_name in mapping_list.sheet_names:\n",
    "        ### เก็บข้อมูล แบบ dic เรียกใช้โดย ชื่อที่เรียกมาเก็บ[sheet_name]\n",
    "        mapping_dataframes[sheet_name] = pd.read_excel(mapping_list, sheet_name=sheet_name,dtype={'CUST_GROUP': str,'รหัสธุรกิจ':str})\n",
    "    return mapping_dataframes\n",
    "\n",
    "def convert_stage(df):\n",
    "    condition = [df.str[-1] == '1'\n",
    "                    ,df.str[-1] == '2'\n",
    "                    ,df.str[-1] == '3']\n",
    "    return np.select(condition,[ 1, 2 , 3])\n",
    "\n",
    "def convert_stage2(df):\n",
    "    condition = [df == 1\n",
    "                    ,df == 2\n",
    "                    ,df == 3]\n",
    "    return np.select(condition,[ 'stage1', 'stage2' , 'stage3'])\n",
    "     "
   ]
  },
  {
   "cell_type": "markdown",
   "metadata": {},
   "source": [
    "### step import file"
   ]
  },
  {
   "cell_type": "code",
   "execution_count": 95,
   "metadata": {},
   "outputs": [
    {
     "name": "stderr",
     "output_type": "stream",
     "text": [
      "c:\\Anaconda 3\\Lib\\site-packages\\openpyxl\\worksheet\\header_footer.py:48: UserWarning: Cannot parse header or footer so it will be ignored\n",
      "  warn(\"\"\"Cannot parse header or footer so it will be ignored\"\"\")\n"
     ]
    }
   ],
   "source": [
    "cust = import_cust()\n",
    "group = import_group()\n",
    "mapping_file = import_mapping()\n",
    "mapping_file['NPL']['stage'] = convert_stage(mapping_file['NPL']['stage'])\n",
    "mapping_file['ECL']['stage'] = convert_stage(mapping_file['ECL']['stage'])\n",
    "mapping_file['LG']['stage'] = convert_stage(mapping_file['LG']['stage'])\n",
    "mapping_file['watchlist']['stage'] = convert_stage(mapping_file['watchlist']['stage'])\n",
    "# mapping_file['ECL_Interbank']['Stage'] = clean_stage(mapping_file['ECL_Interbank']['Stage'])\n",
    "mapping_file['ECL_Interbank']['Bank'] = mapping_file['ECL_Interbank']['Bank'].str.strip()\n",
    "group.rename({'CUST_GROUP':'CUST_GROUP_M','CUST_CODE':'CUST_GROUP'},axis= 'columns',inplace = True)\n"
   ]
  },
  {
   "cell_type": "code",
   "execution_count": 96,
   "metadata": {},
   "outputs": [],
   "source": [
    "group['stage_NPL'] = group.merge(mapping_file['NPL'].iloc[:,[0,3]],on='CUST_GROUP',how = \"left\")['stage']\n",
    "group['stage_ECL'] = group.merge(mapping_file['ECL'],on='CUST_GROUP',how='left')['stage']\n",
    "group['stage_LG'] = group.merge(mapping_file['LG'],on='CUST_GROUP',how='left')['stage']\n",
    "group['stage_LG'] = group.merge(mapping_file['LG'],on='CUST_GROUP',how='left')['stage']\n",
    "group['stage_watchlist'] = group.merge(mapping_file['watchlist'],on='CUST_GROUP',how='left')['stage']"
   ]
  },
  {
   "cell_type": "code",
   "execution_count": 97,
   "metadata": {},
   "outputs": [],
   "source": [
    "condition = [~group['stage_NPL'].isna()\n",
    "             ,(group['stage_NPL'].isna())&(~group['stage_ECL'].isna())\n",
    "             ,(group['stage_NPL'].isna())&(group['stage_ECL'].isna())&(~group['stage_LG'].isna())\n",
    "             ,(group['stage_NPL'].isna())&(group['stage_ECL'].isna())&(group['stage_LG'].isna())&(~group['stage_watchlist'].isna())\n",
    "             ]\n",
    "\n",
    "choices = [group['stage_NPL'],group['stage_ECL'],group['stage_LG'],group['stage_watchlist']]\n",
    "group['stage'] = np.select(condition,choices,default=1)"
   ]
  },
  {
   "cell_type": "code",
   "execution_count": 101,
   "metadata": {},
   "outputs": [],
   "source": [
    "group = group.groupby(['CUST_GROUP_M'])[['stage']].max()\n",
    "group['stage'] = convert_stage2(group['stage'])\n",
    "group.to_excel(os.path.join(output,'group_stage.xlsx'))"
   ]
  },
  {
   "cell_type": "markdown",
   "metadata": {},
   "source": [
    "## ของ Group เสร็จ เหลือของเดียว"
   ]
  }
 ],
 "metadata": {
  "kernelspec": {
   "display_name": "base",
   "language": "python",
   "name": "python3"
  },
  "language_info": {
   "codemirror_mode": {
    "name": "ipython",
    "version": 3
   },
   "file_extension": ".py",
   "mimetype": "text/x-python",
   "name": "python",
   "nbconvert_exporter": "python",
   "pygments_lexer": "ipython3",
   "version": "3.11.5"
  }
 },
 "nbformat": 4,
 "nbformat_minor": 2
}
