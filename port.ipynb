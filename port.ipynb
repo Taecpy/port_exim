{
 "cells": [
  {
   "cell_type": "code",
   "execution_count": 159,
   "metadata": {},
   "outputs": [],
   "source": [
    "import pandas as pd\n",
    "import numpy as np\n",
    "from datetime import datetime\n",
    "import os\n",
    "import glob"
   ]
  },
  {
   "cell_type": "code",
   "execution_count": 160,
   "metadata": {},
   "outputs": [],
   "source": [
    "input = 'INPUT//'\n",
    "input_cust = 'INPUT//CUST'\n",
    "input_group = 'INPUT//GROUP'\n",
    "output = 'OUTPUT//'\n",
    "mapping = 'MAPPING//'\n",
    "# os.mkdir(input)\n",
    "# os.mkdir(output)\n",
    "# os.mkdir(mapping)\n",
    "# os.mkdir(input_cust)\n",
    "# os.mkdir(input_group)"
   ]
  },
  {
   "cell_type": "markdown",
   "metadata": {},
   "source": [
    "### backup"
   ]
  },
  {
   "cell_type": "code",
   "execution_count": 161,
   "metadata": {},
   "outputs": [],
   "source": [
    "# mapping_list = pd.ExcelFile(glob.glob(os.path.join(mapping,'*xlsx'))[-1])\n",
    "# # สร้างพจนานุกรมเพื่อเก็บ DataFrame\n",
    "# dfs = {sheet_name: pd.read_excel(mapping_list, sheet_name=sheet_name) for sheet_name in mapping_list.sheet_names}\n",
    "# # ดู sheets name ทั้งหมด\n",
    "# # dfs.keys()\n",
    "\n",
    "# mapping_list = pd.ExcelFile(glob.glob(os.path.join(mapping,'*xlsx'))[-1])\n",
    "# dfs = {}\n",
    "# for sheet_name in mapping_list.sheet_names:\n",
    "#     data = pd.read_excel(mapping_list, sheet_name=sheet_name)\n",
    "#     dfs[sheet_name] = data\n",
    "\n",
    "\n",
    "# mapping_list = pd.ExcelFile(glob.glob(os.path.join(mapping,'*xlsx'))[-1])\n",
    "# for sheet_name in mapping_list.sheet_names:    \n",
    "#     exec(f\"{sheet_name} = pd.read_excel(mapping_list, sheet_name=sheet_name)\")"
   ]
  },
  {
   "cell_type": "markdown",
   "metadata": {},
   "source": [
    "### function"
   ]
  },
  {
   "cell_type": "code",
   "execution_count": 162,
   "metadata": {},
   "outputs": [],
   "source": [
    "def import_cust():\n",
    "    cust = pd.read_excel(glob.glob(os.path.join(input_cust,'*xlsx'))[-1],dtype={'สินเชื่อ(หลัก)': str,'สินเชื่อ(รอง)': str,'รหัสธุรกิจ':str})\n",
    "    return cust\n",
    "\n",
    "def import_group():\n",
    "    group = pd.read_excel(glob.glob(os.path.join(input_group,'*xlsx'))[-1],dtype={'CUST_GROUP': str,'CUST_CODE': str})\n",
    "    return group\n",
    "\n",
    "def import_mapping():\n",
    "    mapping_list = pd.ExcelFile(glob.glob(os.path.join(mapping, '*xlsx'))[-1])\n",
    "    mapping_dataframes = {}\n",
    "    for sheet_name in mapping_list.sheet_names:\n",
    "        ### เก็บข้อมูล แบบ dic เรียกใช้โดย ชื่อที่เรียกมาเก็บ[sheet_name]\n",
    "        mapping_dataframes[sheet_name] = pd.read_excel(mapping_list, sheet_name=sheet_name,dtype={'CUST_GROUP': str,'รหัสธุรกิจ':str,'รหัส': str})\n",
    "        # mapping_dataframes[sheet_name] = mapping_dataframes[sheet_name].drop_duplicates(subset=['CUST_GROUP','stage'])\n",
    "    return mapping_dataframes\n",
    "\n",
    "def convert_stage(df):\n",
    "    condition = [df.str[-1] == '1'\n",
    "                    ,df.str[-1] == '2'\n",
    "                    ,df.str[-1] == '3']\n",
    "    return np.select(condition,[ 1, 2 , 3])\n",
    "\n",
    "def convert_stage2(df):\n",
    "    condition = [df == 1\n",
    "                    ,df == 2\n",
    "                    ,df == 3]\n",
    "    return np.select(condition,[ 'stage1', 'stage2' , 'stage3'])\n",
    "\n",
    "def stage_final(df):\n",
    "    condition = [~df['stage_NPL'].isna()\n",
    "                ,(df['stage_NPL'].isna())&(~df['stage_ECL'].isna())\n",
    "                ,(df['stage_NPL'].isna())&(df['stage_ECL'].isna())&(~df['stage_LG'].isna())\n",
    "                ,(df['stage_NPL'].isna())&(df['stage_ECL'].isna())&(df['stage_LG'].isna())&(~df['stage_watchlist'].isna())\n",
    "                ]\n",
    "    choices = [df['stage_NPL'],df['stage_ECL'],df['stage_LG'],df['stage_watchlist']]\n",
    "    return np.select(condition,choices,default=1)\n",
    "     \n",
    "### สำหรับ Product name\n",
    "def lookup_Product_name(cell_value, dataframe):\n",
    "    for i in [4, 3, 2]:\n",
    "        lookup_value = cell_value[:i]\n",
    "        result = dataframe[dataframe['Product Code'].str.startswith(lookup_value)]['Product Name'].values\n",
    "        if len(result) > 0:\n",
    "            return result[0]\n",
    "    return 'NaN'\n"
   ]
  },
  {
   "cell_type": "markdown",
   "metadata": {},
   "source": [
    "### process"
   ]
  },
  {
   "cell_type": "code",
   "execution_count": 163,
   "metadata": {},
   "outputs": [
    {
     "name": "stderr",
     "output_type": "stream",
     "text": [
      "c:\\Anaconda 3\\Lib\\site-packages\\openpyxl\\worksheet\\header_footer.py:48: UserWarning: Cannot parse header or footer so it will be ignored\n",
      "  warn(\"\"\"Cannot parse header or footer so it will be ignored\"\"\")\n"
     ]
    }
   ],
   "source": [
    "cust = import_cust()\n",
    "group = import_group()\n",
    "mapping_file = import_mapping()\n",
    "mapping_file['NPL']['stage'] = convert_stage(mapping_file['NPL']['stage'])\n",
    "mapping_file['ECL']['stage'] = convert_stage(mapping_file['ECL']['stage'])\n",
    "mapping_file['LG']['stage'] = convert_stage(mapping_file['LG']['stage'])\n",
    "mapping_file['watchlist']['stage'] = convert_stage(mapping_file['watchlist']['stage'])\n",
    "# mapping_file['ECL_Interbank']['Stage'] = clean_stage(mapping_file['ECL_Interbank']['Stage'])\n",
    "mapping_file['ECL_Interbank']['Bank'] = mapping_file['ECL_Interbank']['Bank'].str.strip()\n",
    "group.rename({'CUST_GROUP':'CUST_GROUP_M','CUST_CODE':'CUST_GROUP'},axis= 'columns',inplace = True)\n",
    "mapping_file['NPL'] = mapping_file['NPL'].drop_duplicates(subset=['CUST_GROUP','stage'])\n",
    "mapping_file['ECL'] = mapping_file['ECL'].drop_duplicates(subset=['CUST_GROUP','stage'])\n",
    "mapping_file['LG'] = mapping_file['LG'].drop_duplicates(subset=['CUST_GROUP','stage'])\n",
    "group['stage_NPL'] = group.merge(mapping_file['NPL'].iloc[:,[0,3]],on='CUST_GROUP',how = \"left\")['stage']\n",
    "group['stage_ECL'] = group.merge(mapping_file['ECL'],on='CUST_GROUP',how='left')['stage']\n",
    "group['stage_LG'] = group.merge(mapping_file['LG'],on='CUST_GROUP',how='left')['stage']\n",
    "group['stage_watchlist'] = group.merge(mapping_file['watchlist'],on='CUST_GROUP',how='left')['stage']\n",
    "group['stage'] = stage_final(group)\n",
    "group = group.groupby(['CUST_GROUP_M'])[['stage']].max()\n",
    "group.reset_index(inplace=True)\n",
    "group.rename(columns={'CUST_GROUP_M': 'CUST_GROUP'},inplace=True)\n",
    "\n",
    "\n",
    "## stage\n",
    "cust['stage_group'] = cust.merge(group,on=['CUST_GROUP'],how='left')['stage']\n",
    "cust['stage_NPL'] = cust.merge(mapping_file['NPL'].iloc[:,[0,3]],on='CUST_GROUP',how = \"left\")['stage']\n",
    "cust['stage_ECL'] = cust.merge(mapping_file['ECL'],on='CUST_GROUP',how='left')['stage']\n",
    "cust['stage_LG'] = cust.merge(mapping_file['LG'],on='CUST_GROUP',how='left')['stage']\n",
    "cust['stage_watchlist'] = cust.merge(mapping_file['watchlist'],on='CUST_GROUP',how='left')['stage']\n",
    "cust['stage_cust'] = stage_final(cust)\n",
    "cust['stage_final'] = np.where(~(cust['stage_group'].isna())&cust['stage_cust']<cust['stage_group'],cust['stage_group'],cust['stage_cust'])\n",
    "cust['stage_final'] = convert_stage2(cust['stage_final'])\n",
    "## Grade \n",
    "cust['Composite Raing Raing_adj'] = np.where(~(cust['Composite Raing'].isin(['A','B1','B2','B3', 'B4','C1', 'C2', 'C3']))|(cust['Year']<2020)|(cust['Composite Raing'].isna()),'N/A',cust['Composite Raing'])\n",
    "## isic code ในอนาคตอาจต้องแก้พวก NA\n",
    "cust['ISIC_Code_adj'] = cust['ISIC Code'].str[0:4]\n",
    "## product program\n",
    "cust['Product Name'] = cust['ประเภทเครดิต'].apply(lambda x: lookup_Product_name(x, mapping_file['TB_Product_Program']))\n",
    "## Utilization\n",
    "cust['Utilization_rate'] = cust['ยอดคงค้างรวมภาระผูกพัน']/cust['วงเงินสะสม(บาท)']\n",
    "cust['รหัส'] = cust['สินเชื่อ(หลัก)'] + cust['สินเชื่อ(รอง)'] \n",
    "cust = cust.merge(mapping_file['TB_CCF_CL'],on='รหัส',how='left')\n",
    "cust['วงเงินสะสม(บาท)_adj'] = cust['วงเงินสะสม(บาท)']*cust['Port_ค่าแปลงสภาพ/น้ำหนักความเสี่ยง']\n",
    "## Industry Warning Sign\n",
    "cust = cust.merge(mapping_file['Industry_Rating'],on=['รหัสธุรกิจ'],how='left')\n"
   ]
  },
  {
   "cell_type": "markdown",
   "metadata": {},
   "source": [
    "### export file"
   ]
  },
  {
   "cell_type": "code",
   "execution_count": 167,
   "metadata": {},
   "outputs": [
    {
     "data": {
      "text/plain": [
       "\"''หลังจาก export stage ต้องมา manual แก้ stage \""
      ]
     },
     "execution_count": 167,
     "metadata": {},
     "output_type": "execute_result"
    }
   ],
   "source": [
    "group.to_excel(os.path.join(output,'group_stage_{}.xlsx'.format(datetime.now().date())),index=False)\n",
    "cust.to_excel(os.path.join(output,'port_{}.xlsx'.format(datetime.now().date())),index=False)\n",
    "''' หลังจาก export stage ต้องมา manual แก้ stage '''"
   ]
  }
 ],
 "metadata": {
  "kernelspec": {
   "display_name": "base",
   "language": "python",
   "name": "python3"
  },
  "language_info": {
   "codemirror_mode": {
    "name": "ipython",
    "version": 3
   },
   "file_extension": ".py",
   "mimetype": "text/x-python",
   "name": "python",
   "nbconvert_exporter": "python",
   "pygments_lexer": "ipython3",
   "version": "3.11.5"
  }
 },
 "nbformat": 4,
 "nbformat_minor": 2
}
